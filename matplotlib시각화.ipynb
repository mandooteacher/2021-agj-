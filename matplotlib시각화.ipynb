{
  "nbformat": 4,
  "nbformat_minor": 0,
  "metadata": {
    "colab": {
      "name": "Untitled10.ipynb",
      "provenance": [],
      "mount_file_id": "1OIBgfF8h7qmNosOTy0PbAiTAkwUBRktm",
      "authorship_tag": "ABX9TyOj5izaS4Z+BYZo2mtlKLV2",
      "include_colab_link": true
    },
    "kernelspec": {
      "name": "python3",
      "display_name": "Python 3"
    },
    "language_info": {
      "name": "python"
    }
  },
  "cells": [
    {
      "cell_type": "markdown",
      "metadata": {
        "id": "view-in-github",
        "colab_type": "text"
      },
      "source": [
        "<a href=\"https://colab.research.google.com/github/mandooteacher/2021-agj-/blob/main/matplotlib%EC%8B%9C%EA%B0%81%ED%99%94.ipynb\" target=\"_parent\"><img src=\"https://colab.research.google.com/assets/colab-badge.svg\" alt=\"Open In Colab\"/></a>"
      ]
    },
    {
      "cell_type": "code",
      "metadata": {
        "colab": {
          "base_uri": "https://localhost:8080/"
        },
        "id": "_VYTFOPHHcB3",
        "outputId": "35f77cd8-300e-4aa1-8986-9e08ac22e567"
      },
      "source": [
        "from google.colab import drive\n",
        "drive.mount('/content/drive')"
      ],
      "execution_count": null,
      "outputs": [
        {
          "output_type": "stream",
          "name": "stdout",
          "text": [
            "Mounted at /content/drive\n"
          ]
        }
      ]
    },
    {
      "cell_type": "code",
      "metadata": {
        "colab": {
          "base_uri": "https://localhost:8080/"
        },
        "id": "njfMv4dUS5hs",
        "outputId": "698d3581-4142-42dd-9a48-b4cd2f084cfe"
      },
      "source": [
        "cd \"/content/drive/MyDrive\""
      ],
      "execution_count": null,
      "outputs": [
        {
          "output_type": "stream",
          "name": "stdout",
          "text": [
            "/content/drive/MyDrive\n"
          ]
        }
      ]
    },
    {
      "cell_type": "code",
      "metadata": {
        "colab": {
          "base_uri": "https://localhost:8080/"
        },
        "id": "hfuF_6SFTMvj",
        "outputId": "a7c9bdf0-f53f-45ec-d8ae-37be5f7f8acd"
      },
      "source": [
        "!git clone https://github.com/mandooteacher/2021-agj-.git"
      ],
      "execution_count": null,
      "outputs": [
        {
          "output_type": "stream",
          "name": "stdout",
          "text": [
            "Cloning into '2021-agj-'...\n",
            "remote: Enumerating objects: 15, done.\u001b[K\n",
            "remote: Counting objects: 100% (15/15), done.\u001b[K\n",
            "remote: Compressing objects: 100% (12/12), done.\u001b[K\n",
            "remote: Total 15 (delta 3), reused 10 (delta 1), pack-reused 0\u001b[K\n",
            "Unpacking objects: 100% (15/15), done.\n"
          ]
        }
      ]
    },
    {
      "cell_type": "code",
      "metadata": {
        "colab": {
          "base_uri": "https://localhost:8080/",
          "height": 425
        },
        "id": "SHaJrL4FTSeU",
        "outputId": "ae18a812-dad5-4b62-cde4-d4fb625ed8f5"
      },
      "source": [
        "import pandas as pd\n",
        "df = pd.read_csv('/content/drive/MyDrive/2021-agj-/age.csv', \\\n",
        "                 skiprows=6, header=1, encoding='cp949')\n",
        "df.head()"
      ],
      "execution_count": null,
      "outputs": [
        {
          "output_type": "execute_result",
          "data": {
            "text/html": [
              "<div>\n",
              "<style scoped>\n",
              "    .dataframe tbody tr th:only-of-type {\n",
              "        vertical-align: middle;\n",
              "    }\n",
              "\n",
              "    .dataframe tbody tr th {\n",
              "        vertical-align: top;\n",
              "    }\n",
              "\n",
              "    .dataframe thead th {\n",
              "        text-align: right;\n",
              "    }\n",
              "</style>\n",
              "<table border=\"1\" class=\"dataframe\">\n",
              "  <thead>\n",
              "    <tr style=\"text-align: right;\">\n",
              "      <th></th>\n",
              "      <th>서울특별시 강남구 삼성1동(1168058000)</th>\n",
              "      <th>13,105</th>\n",
              "      <th>51</th>\n",
              "      <th>51.1</th>\n",
              "      <th>6,474</th>\n",
              "      <th>22</th>\n",
              "      <th>22.1</th>\n",
              "      <th>6,631</th>\n",
              "      <th>29</th>\n",
              "      <th>29.1</th>\n",
              "      <th>13,077</th>\n",
              "      <th>45</th>\n",
              "      <th>45.1</th>\n",
              "      <th>6,446</th>\n",
              "      <th>18</th>\n",
              "      <th>18.1</th>\n",
              "      <th>6,631.1</th>\n",
              "      <th>27</th>\n",
              "      <th>27.1</th>\n",
              "      <th>13,045</th>\n",
              "      <th>41</th>\n",
              "      <th>41.1</th>\n",
              "      <th>6,424</th>\n",
              "      <th>16</th>\n",
              "      <th>16.1</th>\n",
              "      <th>6,621</th>\n",
              "      <th>25</th>\n",
              "      <th>25.1</th>\n",
              "    </tr>\n",
              "  </thead>\n",
              "  <tbody>\n",
              "    <tr>\n",
              "      <th>0</th>\n",
              "      <td>서울특별시 강남구 삼성2동(1168059000)</td>\n",
              "      <td>29,529</td>\n",
              "      <td>157</td>\n",
              "      <td>157</td>\n",
              "      <td>14,108</td>\n",
              "      <td>85</td>\n",
              "      <td>85</td>\n",
              "      <td>15,421</td>\n",
              "      <td>72</td>\n",
              "      <td>72</td>\n",
              "      <td>29,563</td>\n",
              "      <td>150</td>\n",
              "      <td>150</td>\n",
              "      <td>14,139</td>\n",
              "      <td>78</td>\n",
              "      <td>78</td>\n",
              "      <td>15,424</td>\n",
              "      <td>72</td>\n",
              "      <td>72</td>\n",
              "      <td>29,460</td>\n",
              "      <td>142</td>\n",
              "      <td>142</td>\n",
              "      <td>14,096</td>\n",
              "      <td>77</td>\n",
              "      <td>77</td>\n",
              "      <td>15,364</td>\n",
              "      <td>65</td>\n",
              "      <td>65</td>\n",
              "    </tr>\n",
              "    <tr>\n",
              "      <th>1</th>\n",
              "      <td>서울특별시 강남구 대치1동(1168060000)</td>\n",
              "      <td>24,444</td>\n",
              "      <td>29</td>\n",
              "      <td>29</td>\n",
              "      <td>12,312</td>\n",
              "      <td>14</td>\n",
              "      <td>14</td>\n",
              "      <td>12,132</td>\n",
              "      <td>15</td>\n",
              "      <td>15</td>\n",
              "      <td>24,356</td>\n",
              "      <td>33</td>\n",
              "      <td>33</td>\n",
              "      <td>12,272</td>\n",
              "      <td>15</td>\n",
              "      <td>15</td>\n",
              "      <td>12,084</td>\n",
              "      <td>18</td>\n",
              "      <td>18</td>\n",
              "      <td>24,286</td>\n",
              "      <td>39</td>\n",
              "      <td>39</td>\n",
              "      <td>12,218</td>\n",
              "      <td>18</td>\n",
              "      <td>18</td>\n",
              "      <td>12,068</td>\n",
              "      <td>21</td>\n",
              "      <td>21</td>\n",
              "    </tr>\n",
              "    <tr>\n",
              "      <th>2</th>\n",
              "      <td>서울특별시 강남구 대치2동(1168061000)</td>\n",
              "      <td>36,518</td>\n",
              "      <td>87</td>\n",
              "      <td>87</td>\n",
              "      <td>18,507</td>\n",
              "      <td>46</td>\n",
              "      <td>46</td>\n",
              "      <td>18,011</td>\n",
              "      <td>41</td>\n",
              "      <td>41</td>\n",
              "      <td>36,422</td>\n",
              "      <td>89</td>\n",
              "      <td>89</td>\n",
              "      <td>18,460</td>\n",
              "      <td>45</td>\n",
              "      <td>45</td>\n",
              "      <td>17,962</td>\n",
              "      <td>44</td>\n",
              "      <td>44</td>\n",
              "      <td>36,245</td>\n",
              "      <td>92</td>\n",
              "      <td>92</td>\n",
              "      <td>18,389</td>\n",
              "      <td>46</td>\n",
              "      <td>46</td>\n",
              "      <td>17,856</td>\n",
              "      <td>46</td>\n",
              "      <td>46</td>\n",
              "    </tr>\n",
              "    <tr>\n",
              "      <th>3</th>\n",
              "      <td>서울특별시 강남구 대치4동(1168063000)</td>\n",
              "      <td>19,997</td>\n",
              "      <td>37</td>\n",
              "      <td>37</td>\n",
              "      <td>9,417</td>\n",
              "      <td>20</td>\n",
              "      <td>20</td>\n",
              "      <td>10,580</td>\n",
              "      <td>17</td>\n",
              "      <td>17</td>\n",
              "      <td>19,974</td>\n",
              "      <td>36</td>\n",
              "      <td>36</td>\n",
              "      <td>9,421</td>\n",
              "      <td>17</td>\n",
              "      <td>17</td>\n",
              "      <td>10,553</td>\n",
              "      <td>19</td>\n",
              "      <td>19</td>\n",
              "      <td>20,067</td>\n",
              "      <td>38</td>\n",
              "      <td>38</td>\n",
              "      <td>9,458</td>\n",
              "      <td>17</td>\n",
              "      <td>17</td>\n",
              "      <td>10,609</td>\n",
              "      <td>21</td>\n",
              "      <td>21</td>\n",
              "    </tr>\n",
              "    <tr>\n",
              "      <th>4</th>\n",
              "      <td>서울특별시 강남구 역삼1동(1168064000)</td>\n",
              "      <td>35,495</td>\n",
              "      <td>100</td>\n",
              "      <td>100</td>\n",
              "      <td>17,177</td>\n",
              "      <td>47</td>\n",
              "      <td>47</td>\n",
              "      <td>18,318</td>\n",
              "      <td>53</td>\n",
              "      <td>53</td>\n",
              "      <td>35,606</td>\n",
              "      <td>105</td>\n",
              "      <td>105</td>\n",
              "      <td>17,267</td>\n",
              "      <td>51</td>\n",
              "      <td>51</td>\n",
              "      <td>18,339</td>\n",
              "      <td>54</td>\n",
              "      <td>54</td>\n",
              "      <td>35,620</td>\n",
              "      <td>103</td>\n",
              "      <td>103</td>\n",
              "      <td>17,285</td>\n",
              "      <td>52</td>\n",
              "      <td>52</td>\n",
              "      <td>18,335</td>\n",
              "      <td>51</td>\n",
              "      <td>51</td>\n",
              "    </tr>\n",
              "  </tbody>\n",
              "</table>\n",
              "</div>"
            ],
            "text/plain": [
              "   서울특별시 강남구 삼성1동(1168058000)  13,105   51  51.1  ... 16.1   6,621  25 25.1\n",
              "0  서울특별시 강남구 삼성2동(1168059000)  29,529  157   157  ...   77  15,364  65   65\n",
              "1  서울특별시 강남구 대치1동(1168060000)  24,444   29    29  ...   18  12,068  21   21\n",
              "2  서울특별시 강남구 대치2동(1168061000)  36,518   87    87  ...   46  17,856  46   46\n",
              "3  서울특별시 강남구 대치4동(1168063000)  19,997   37    37  ...   17  10,609  21   21\n",
              "4  서울특별시 강남구 역삼1동(1168064000)  35,495  100   100  ...   52  18,335  51   51\n",
              "\n",
              "[5 rows x 28 columns]"
            ]
          },
          "metadata": {},
          "execution_count": 12
        }
      ]
    }
  ]
}